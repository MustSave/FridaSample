{
 "cells": [
  {
   "cell_type": "markdown",
   "metadata": {},
   "source": [
    "## Install Dependency"
   ]
  },
  {
   "cell_type": "code",
   "execution_count": null,
   "metadata": {},
   "outputs": [],
   "source": [
    "!pip install frida-tools"
   ]
  },
  {
   "cell_type": "markdown",
   "metadata": {},
   "source": [
    "## Install Jadx"
   ]
  },
  {
   "cell_type": "code",
   "execution_count": null,
   "metadata": {},
   "outputs": [],
   "source": [
    "import os\n",
    "import urllib.request\n",
    "import zipfile\n",
    "\n",
    "from var import *\n",
    "\n",
    "if not os.path.exists(jadx_dir):\n",
    "    zip_file = f\"{jadx_dir}.zip\"\n",
    "    urllib.request.urlretrieve(jadx_download_url, zip_file)\n",
    "    with zipfile.ZipFile(zip_file, 'r') as zip_ref:\n",
    "        zip_ref.extractall(jadx_dir)\n",
    "    os.chmod(jadx_gui_bin, 0o744)\n",
    "    os.remove(zip_file)"
   ]
  },
  {
   "cell_type": "markdown",
   "metadata": {},
   "source": [
    "## Steup Frida"
   ]
  },
  {
   "cell_type": "code",
   "execution_count": null,
   "metadata": {},
   "outputs": [],
   "source": [
    "import urllib.request\n",
    "import os\n",
    "import lzma\n",
    "from var import *\n",
    "\n",
    "if not os.path.exists(frida_server_bin_path):\n",
    "    cpu_arch = !adb shell getprop ro.product.cpu.abi\n",
    "    cpu_arch = cpu_arch[0].strip() if cpu_arch else \"\"\n",
    "\n",
    "    # 아키텍처 매핑\n",
    "    arch_map = {\n",
    "        \"armeabi-v7a\": \"arm\",\n",
    "        \"arm64-v8a\": \"arm64\",\n",
    "        \"x86\": \"x86\",\n",
    "        \"x86_64\": \"x86_64\"\n",
    "    }\n",
    "\n",
    "    frida_arch = arch_map.get(cpu_arch)\n",
    "    frida_server_download_url = f\"https://github.com/frida/frida/releases/download/{frida_version}/frida-server-{frida_version}-android-{frida_arch}.xz\"\n",
    "\n",
    "    os.makedirs(\"utils\", exist_ok=True)\n",
    "\n",
    "    download_path = f\"{frida_server_bin_path}.xz\"\n",
    "    print(f\"Downloading frida server from {frida_server_download_url}...\")\n",
    "    urllib.request.urlretrieve(frida_server_download_url, download_path)\n",
    "    print(f\"Downloaded to {download_path}\")\n",
    "\n",
    "    # 압축 풀기\n",
    "    file_name = \"frida-server\"\n",
    "    print(f\"Extracting frida-server...\")\n",
    "    with lzma.open(download_path, \"rb\") as compressed_file:\n",
    "        with open(frida_server_bin_path, \"wb\") as extracted_file:\n",
    "            extracted_file.write(compressed_file.read())\n",
    "    print(f\"Extracted to {frida_server_bin_path}\")\n",
    "\n",
    "    # 다운로드된 압축 파일 삭제\n",
    "    os.remove(download_path)\n",
    "    print(f\"Removed compressed file {download_path}\")\n"
   ]
  },
  {
   "cell_type": "markdown",
   "metadata": {},
   "source": [
    "## Setup Path for Android Studio Emulator"
   ]
  },
  {
   "cell_type": "code",
   "execution_count": null,
   "metadata": {},
   "outputs": [],
   "source": [
    "from utils.utils import setup_android_path_env\n",
    "\n",
    "setup_android_path_env()"
   ]
  },
  {
   "cell_type": "code",
   "execution_count": null,
   "metadata": {},
   "outputs": [],
   "source": [
    "import subprocess\n",
    "import re\n",
    "\n",
    "def list_and_select_sorted_system_image():\n",
    "    try:\n",
    "        # sdkmanager --list 명령 실행\n",
    "        result = subprocess.run(\n",
    "            [\"sdkmanager\", \"--list\"],\n",
    "            stdout=subprocess.PIPE,\n",
    "            stderr=subprocess.PIPE,\n",
    "            text=True\n",
    "        )\n",
    "\n",
    "        if result.returncode != 0:\n",
    "            print(f\"Error: {result.stderr}\")\n",
    "            return\n",
    "\n",
    "        # stdout에서 system-images만 필터링\n",
    "        system_images = [\n",
    "            line.strip() for line in result.stdout.splitlines()\n",
    "            if line.strip().startswith(\"system-images;\")\n",
    "        ]\n",
    "\n",
    "        if not system_images:\n",
    "            print(\"No system images found.\")\n",
    "            return\n",
    "\n",
    "        # 정렬: 숫자가 우선, 내림차순 -> 숫자가 아닌 항목은 마지막으로\n",
    "        def sort_key(image):\n",
    "            match = re.search(r\"system-images;android-(\\d+)\", image)\n",
    "            if match:\n",
    "                return -int(match.group(1))  # 숫자를 음수로 변환해 내림차순 정렬\n",
    "            return float(\"inf\")  # 숫자가 아닌 경우 가장 뒤로\n",
    "\n",
    "        sorted_images = sorted(system_images, key=sort_key)\n",
    "\n",
    "        # 정렬된 시스템 이미지 출력\n",
    "        print(\"Available System Images (sorted):\")\n",
    "        for idx, image in enumerate(sorted_images, start=1):\n",
    "            print(f\"{idx}. {image}\")\n",
    "\n",
    "        # 사용자로부터 선택 입력 받기\n",
    "        while True:\n",
    "            try:\n",
    "                choice = int(input(\"Select a system image (enter the number): \"))\n",
    "                if 1 <= choice <= len(sorted_images):\n",
    "                    selected_image = sorted_images[choice - 1]\n",
    "                    print(f\"You selected: {selected_image}\")\n",
    "                    return selected_image\n",
    "                else:\n",
    "                    print(f\"Please select a number between 1 and {len(sorted_images)}.\")\n",
    "            except ValueError:\n",
    "                print(\"Invalid input. Please enter a number.\")\n",
    "\n",
    "    except FileNotFoundError:\n",
    "        print(\"Error: sdkmanager command not found. Ensure Android SDK is installed and in PATH.\")"
   ]
  },
  {
   "cell_type": "markdown",
   "metadata": {},
   "source": [
    "## Run Jadx"
   ]
  },
  {
   "cell_type": "code",
   "execution_count": null,
   "metadata": {},
   "outputs": [],
   "source": [
    "from utils.utils import run_command_in_background\n",
    "from var import *\n",
    "\n",
    "run_command_in_background(f\"{jadx_gui_bin}\")"
   ]
  },
  {
   "cell_type": "markdown",
   "metadata": {},
   "source": [
    "## Run Emulator"
   ]
  },
  {
   "cell_type": "code",
   "execution_count": null,
   "metadata": {},
   "outputs": [],
   "source": [
    "from utils.utils import run_command_in_background\n",
    "from var import *\n",
    "\n",
    "# AVD 확인 및 생성\n",
    "avds = !emulator -list-avds\n",
    "if avd_name not in avds:\n",
    "    system_image = system_image if system_image else list_and_select_sorted_system_image()\n",
    "    if system_image:\n",
    "        !avdmanager create avd -n {avd_name} -k \"{system_image}\" --device \"{device}\" --force\n",
    "\n",
    "# 실행 중인지 확인 후 에뮬레이터 실행\n",
    "avds = !emulator -list-avds\n",
    "if avd_name in avds:\n",
    "    print(f\"Starting emulator '{avd_name}'...\")\n",
    "    run_command_in_background(f'emulator -avd {avd_name}')\n",
    "else:\n",
    "    print(f\"AVD '{avd_name}' not found.\")\n"
   ]
  },
  {
   "cell_type": "markdown",
   "metadata": {},
   "source": [
    "## Run frida server"
   ]
  },
  {
   "cell_type": "code",
   "execution_count": null,
   "metadata": {},
   "outputs": [],
   "source": [
    "from utils.utils import run_command_in_background\n",
    "from var import *\n",
    "\n",
    "!adb root\n",
    "frida = !adb shell ls /data/local/tmp/frida # 2>/dev/null\n",
    "frida_exist = len(frida) != 0\n",
    "if not frida_exist:\n",
    "    !adb push {frida_server_bin_path} /data/local/tmp/frida\n",
    "    !adb shell chmod +x /data/local/tmp/frida\n",
    "\n",
    "run_command_in_background(\"adb shell /data/local/tmp/frida -D\")"
   ]
  },
  {
   "cell_type": "markdown",
   "metadata": {},
   "source": [
    "## Install apk"
   ]
  },
  {
   "cell_type": "code",
   "execution_count": null,
   "metadata": {},
   "outputs": [],
   "source": [
    "apk_path = \"\"\n",
    "!adb install {apk_path}"
   ]
  },
  {
   "cell_type": "code",
   "execution_count": null,
   "metadata": {},
   "outputs": [],
   "source": [
    "import frida\n",
    "device = frida.get_usb_device()"
   ]
  },
  {
   "cell_type": "code",
   "execution_count": null,
   "metadata": {},
   "outputs": [],
   "source": [
    "from utils.utils import get_focused_app_package\n",
    "from var import package_name\n",
    "\n",
    "package_name = package_name if package_name else get_focused_app_package()"
   ]
  },
  {
   "cell_type": "code",
   "execution_count": null,
   "metadata": {},
   "outputs": [],
   "source": [
    "from var import package_name, frida_script_path\n",
    "\n",
    "# 타겟 앱을 실행합니다.\n",
    "pid = device.spawn([package_name])\n",
    "session = device.attach(pid)\n",
    "\n",
    "if os.path.exists(frida_script_path) and os.path.isfile(frida_script_path):\n",
    "    # Frida JavaScript 스크립트를 로드합니다.\n",
    "    with open(frida_script_path, 'r', encoding='utf-8') as f:\n",
    "        frida_code = f.read()\n",
    "    frida_script_path = session.create_script(frida_code)\n",
    "    frida_script_path.load()\n",
    "device.resume(pid)"
   ]
  },
  {
   "cell_type": "code",
   "execution_count": null,
   "metadata": {},
   "outputs": [],
   "source": [
    "frida_script_path.unload()"
   ]
  }
 ],
 "metadata": {
  "kernelspec": {
   "display_name": "Python 3",
   "language": "python",
   "name": "python3"
  },
  "language_info": {
   "codemirror_mode": {
    "name": "ipython",
    "version": 3
   },
   "file_extension": ".py",
   "mimetype": "text/x-python",
   "name": "python",
   "nbconvert_exporter": "python",
   "pygments_lexer": "ipython3",
   "version": "3.11.4"
  }
 },
 "nbformat": 4,
 "nbformat_minor": 2
}
