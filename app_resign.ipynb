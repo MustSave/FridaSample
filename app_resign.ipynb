{
 "cells": [
  {
   "cell_type": "code",
   "execution_count": null,
   "metadata": {},
   "outputs": [],
   "source": [
    "apk = \"\"\n",
    "package = \"\"\n",
    "\n",
    "if not apk.endswith(\".apk\"):\n",
    "    apk = apk + \".apk\"\n",
    "apk_name = apk.replace(\".apk\", \"\")\n",
    "\n",
    "app_decompiled_path = f\"{apk_name}_decompiled\"\n",
    "\n",
    "recompiled_apk_path = f\"{apk_name}_recompiled.apk\"\n",
    "aligned_apk_path = f\"{apk_name}_aligned.apk\"\n",
    "resigned_apk_path = f\"{apk_name}_resigned.apk\"\n",
    "\n",
    "!rm -rf {app_decompiled_path}\n",
    "!apktool d {apk} -o {app_decompiled_path}"
   ]
  },
  {
   "cell_type": "code",
   "execution_count": null,
   "metadata": {},
   "outputs": [],
   "source": [
    "with open (f\"{app_decompiled_path}/AndroidManifest.xml\", \"r\", -1, \"utf-8\") as f:\n",
    "    data = f.read()\n",
    "with open (f\"{app_decompiled_path}/AndroidManifest.xml\", \"w+\", -1, \"utf-8\") as f:\n",
    "    data = data.replace('android:allowBackup=\"false\"', 'android:allowBackup=\"true\"')\n",
    "    data = data.replace('android:fullBackupContent=\"false\"', '')\n",
    "    f.write(data)"
   ]
  },
  {
   "cell_type": "code",
   "execution_count": null,
   "metadata": {},
   "outputs": [],
   "source": [
    "from utils.utils import setup_android_path_env\n",
    "\n",
    "setup_android_path_env()\n",
    "\n",
    "!rm my_app_final.apk {aligned_apk_path}\n",
    "\n",
    "!apktool b {app_decompiled_path} -o {recompiled_apk_path}\n",
    "!zipalign -v 4 {recompiled_apk_path} {aligned_apk_path}\n",
    "\n",
    "import os\n",
    "keystore_path = os.path.expanduser(\"~/.android/debug.keystore\")\n",
    "\n",
    "# 파일 존재 여부 확인\n",
    "if not os.path.exists(keystore_path):\n",
    "    raise FileNotFoundError(f\"debug.keystore not found at {keystore_path}\")\n",
    "\n",
    "!apksigner sign \\\n",
    "  --ks {debug_keystore_path} \\\n",
    "  --ks-key-alias androiddebugkey \\\n",
    "  --ks-pass pass:android \\\n",
    "  --key-pass pass:android \\\n",
    "  --out {resigned_apk_path} {aligned_apk_path}\n",
    "\n",
    "!jarsigner -verify {resigned_apk_path}"
   ]
  },
  {
   "cell_type": "code",
   "execution_count": null,
   "metadata": {},
   "outputs": [],
   "source": [
    "if package:\n",
    "    !adb uninstall {package}\n",
    "!adb install {resigned_apk_path}"
   ]
  },
  {
   "cell_type": "code",
   "execution_count": null,
   "metadata": {},
   "outputs": [],
   "source": [
    "android_backup_path = f\"{apk_name}_backup.ab\"\n",
    "android_backup_tar_path = f\"{apk_name}_backup.tar\""
   ]
  },
  {
   "cell_type": "code",
   "execution_count": null,
   "metadata": {},
   "outputs": [],
   "source": [
    "!rm {android_backup_path}\n",
    "!adb backup -f {android_backup_path} {package}"
   ]
  },
  {
   "cell_type": "code",
   "execution_count": null,
   "metadata": {},
   "outputs": [],
   "source": [
    "import os\n",
    "import urllib.request\n",
    "\n",
    "abe_download_url = \"https://github.com/nelenkov/android-backup-extractor/releases/download/latest/abe-0059753.jar\"\n",
    "\n",
    "out_dir = \"utils\"\n",
    "os.makedirs(out_dir, exist_ok=True)\n",
    "output_path = os.path.join(out_dir, \"abe.jar\")\n",
    "\n",
    "# 파일 다운로드\n",
    "if not os.path.exists(output_path):\n",
    "    try:\n",
    "        print(f\"Downloading {abe_download_url}...\")\n",
    "        urllib.request.urlretrieve(abe_download_url, output_path)\n",
    "        print(f\"Downloaded to {output_path}\")\n",
    "    except Exception as e:\n",
    "        print(f\"Failed to download {abe_download_url}: {e}\")\n",
    "\n",
    "!rm {android_backup_tar_path}\n",
    "!java -jar {output_path} unpack {android_backup_path} {android_backup_tar_path} 1\n",
    "!tar -xf {android_backup_tar_path}"
   ]
  }
 ],
 "metadata": {
  "kernelspec": {
   "display_name": "Python 3",
   "language": "python",
   "name": "python3"
  },
  "language_info": {
   "codemirror_mode": {
    "name": "ipython",
    "version": 3
   },
   "file_extension": ".py",
   "mimetype": "text/x-python",
   "name": "python",
   "nbconvert_exporter": "python",
   "pygments_lexer": "ipython3",
   "version": "3.10.10"
  }
 },
 "nbformat": 4,
 "nbformat_minor": 2
}
